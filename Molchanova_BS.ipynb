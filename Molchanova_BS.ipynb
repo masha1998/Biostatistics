{
 "cells": [
  {
   "cell_type": "markdown",
   "metadata": {
    "id": "yuaIjKVHOmr5"
   },
   "source": [
    "## Homework №1\n",
    "\n",
    "### Poisson distribution"
   ]
  },
  {
   "cell_type": "code",
   "execution_count": 1,
   "metadata": {
    "id": "4I8pEeQNg89f"
   },
   "outputs": [],
   "source": [
    "from collections import Counter\n",
    "import matplotlib.pyplot as plt\n",
    "from scipy.stats import poisson\n",
    "import scipy\n",
    "import seaborn as sb\n",
    "import numpy as np\n",
    "np.random.seed(seed=42)\n",
    "SIZE = 10000\n",
    "MIN_FREQ = 4\n",
    "mu_true = 4\n",
    "mu_false = 24"
   ]
  },
  {
   "cell_type": "code",
   "execution_count": 2,
   "metadata": {
    "id": "vD8KIHECjhmt"
   },
   "outputs": [],
   "source": [
    "def theor_poisson(n, k_max):\n",
    "    return [n * mu_true**(k)*np.exp(-mu_true)/factorial(k) for k in range(k_max)]\n",
    "\n",
    "def frequencies(f):\n",
    "    c = dict(Counter(f))\n",
    "    missed = set(range(len(c))).difference(set(c.keys()))\n",
    "    for m in missed:\n",
    "        c[m] = 0\n",
    "    result = [v for k,v in sorted(c.items())]\n",
    "    return result\n",
    "\n",
    "def plot_freqs(f):\n",
    "    res = frequencies(f)\n",
    "    fig = plt.figure()\n",
    "    ax = fig.add_axes([0,0,1,1])\n",
    "    ax.bar(range(len(res)), res)\n",
    "    plt.show()\n",
    "\n",
    "def prepare_lists(obs, exp):\n",
    "    cut = 0\n",
    "    for i in range(len(obs)):\n",
    "        if obs[i] < MIN_FREQ:\n",
    "            cut = i\n",
    "    exp[cut-1] = SIZE - sum(exp[:cut-1])\n",
    "    return(obs[:cut], exp[:cut])\n"
   ]
  },
  {
   "cell_type": "markdown",
   "metadata": {
    "id": "SQrIz5NmOmr8"
   },
   "source": [
    "### Issue 1"
   ]
  },
  {
   "cell_type": "code",
   "execution_count": 3,
   "metadata": {
    "colab": {
     "base_uri": "https://localhost:8080/",
     "height": 336
    },
    "id": "-zQ6XhbXOmsA",
    "outputId": "e96b6dd2-1b6d-4845-f334-abebe7eefbfa"
   },
   "outputs": [
    {
     "data": {
      "image/png": "[encoded data removed]",
      "text/plain": [
       "<Figure size 432x288 with 1 Axes>"
      ]
     },
     "metadata": {
      "needs_background": "light"
     },
     "output_type": "display_data"
    }
   ],
   "source": [
    "from math import factorial\n",
    "exp = theor_poisson(SIZE, 100)\n",
    "fig = plt.figure()\n",
    "ax = fig.add_axes([0,0,1,1])\n",
    "ax.bar(range(20), exp[:20])\n",
    "plt.show()\n",
    "\n",
    "# f_exp = poisson.rvs(mu=mu_true, size=SIZE)\n",
    "# plot_freqs(f_exp, 1)\n",
    "# exp = frequencies(f_exp)\n",
    "# # ax = sb.distplot(f_exp,\n",
    "# #                   kde=True,\n",
    "# #                   color='green',\n",
    "# #                   hist_kws={\"linewidth\": 25,'alpha':1})\n",
    "# # ax.set(xlabel='Poisson', ylabel='Frequency')"
   ]
  },
  {
   "cell_type": "markdown",
   "metadata": {
    "id": "zpC3ktHVOmsd"
   },
   "source": [
    "### Issue 2\n",
    "\n",
    "#### Test the hypothesis that the parameter is equal to a given value. Take correct and incorrect values and compare the test results."
   ]
  },
  {
   "cell_type": "code",
   "execution_count": 4,
   "metadata": {
    "colab": {
     "base_uri": "https://localhost:8080/",
     "height": 370
    },
    "id": "hHeVEbTzfpzW",
    "outputId": "ee23522f-9324-49f1-c7c9-5f47e7099e55"
   },
   "outputs": [
    {
     "data": {
      "image/png": "[encoded data removed]",
      "text/plain": [
       "<Figure size 432x288 with 1 Axes>"
      ]
     },
     "metadata": {
      "needs_background": "light"
     },
     "output_type": "display_data"
    },
    {
     "name": "stdout",
     "output_type": "stream",
     "text": [
      "chisq 4.5109981440002724e+23\n",
      "p_value 0.0\n"
     ]
    }
   ],
   "source": [
    "#lambda NOT equal to mu_true\n",
    "#let assume mu and get expected distribution\n",
    "f_obs = poisson.rvs(mu=mu_false, size=SIZE)\n",
    "plot_freqs(f_obs)\n",
    "obs = frequencies(f_obs)\n",
    "\n",
    "chisq, p = scipy.stats.chisquare(*prepare_lists(obs, exp))\n",
    "\n",
    "print('chisq', chisq)\n",
    "print('p_value', p)"
   ]
  },
  {
   "cell_type": "code",
   "execution_count": 5,
   "metadata": {
    "colab": {
     "base_uri": "https://localhost:8080/",
     "height": 370
    },
    "id": "ku_2ByWTOmsm",
    "outputId": "ffe89c75-419e-41c0-e1cb-520149751016"
   },
   "outputs": [
    {
     "data": {
      "image/png": "[encoded data removed]",
      "text/plain": [
       "<Figure size 432x288 with 1 Axes>"
      ]
     },
     "metadata": {
      "needs_background": "light"
     },
     "output_type": "display_data"
    },
    {
     "name": "stdout",
     "output_type": "stream",
     "text": [
      "chisq 18.504015064735235\n",
      "p_value 0.1393027501383256\n"
     ]
    }
   ],
   "source": [
    "#lambda equal mu_true\n",
    "#let assume mu and get expected distribution\n",
    "f_obs = poisson.rvs(mu=mu_true, size=SIZE)\n",
    "plot_freqs(f_obs)\n",
    "obs = frequencies(f_obs)\n",
    "\n",
    "chisq, p = scipy.stats.chisquare(*prepare_lists(obs, exp))\n",
    "\n",
    "print('chisq', chisq)\n",
    "print('p_value', p)"
   ]
  },
  {
   "cell_type": "markdown",
   "metadata": {},
   "source": [
    "### Homework 2"
   ]
  },
  {
   "cell_type": "markdown",
   "metadata": {},
   "source": [
    "### Issue 4-7"
   ]
  },
  {
   "cell_type": "code",
   "execution_count": 8,
   "metadata": {},
   "outputs": [],
   "source": [
    "y0 = np.random.poisson(4, 40)"
   ]
  },
  {
   "cell_type": "code",
   "execution_count": 9,
   "metadata": {},
   "outputs": [
    {
     "data": {
      "text/plain": [
       "array([ 3,  3, 10,  5,  5,  5,  4,  2,  4,  6,  5,  6,  5,  5,  4,  2,  6,\n",
       "        0,  6,  5,  4,  5,  8,  5,  7,  1,  6,  3,  6,  3,  3,  4,  3,  3,\n",
       "        3,  7,  2,  5,  3,  9])"
      ]
     },
     "execution_count": 9,
     "metadata": {},
     "output_type": "execute_result"
    }
   ],
   "source": [
    "y0"
   ]
  },
  {
   "cell_type": "code",
   "execution_count": 10,
   "metadata": {},
   "outputs": [
    {
     "data": {
      "text/plain": [
       "181"
      ]
     },
     "execution_count": 10,
     "metadata": {},
     "output_type": "execute_result"
    }
   ],
   "source": [
    "sum(y0)"
   ]
  },
  {
   "cell_type": "code",
   "execution_count": 11,
   "metadata": {},
   "outputs": [],
   "source": [
    "y = np.random.poisson(3.5, 60)"
   ]
  },
  {
   "cell_type": "code",
   "execution_count": 12,
   "metadata": {},
   "outputs": [
    {
     "data": {
      "text/plain": [
       "array([2, 5, 3, 3, 1, 8, 0, 3, 6, 2, 3, 2, 9, 4, 1, 5, 4, 2, 4, 3, 2, 4,\n",
       "       3, 4, 3, 2, 7, 3, 0, 5, 2, 2, 6, 3, 2, 6, 4, 1, 7, 3, 3, 3, 2, 3,\n",
       "       4, 7, 4, 2, 3, 5, 4, 0, 3, 4, 4, 4, 2, 1, 2, 3])"
      ]
     },
     "execution_count": 12,
     "metadata": {},
     "output_type": "execute_result"
    }
   ],
   "source": [
    "y"
   ]
  },
  {
   "cell_type": "code",
   "execution_count": 13,
   "metadata": {},
   "outputs": [
    {
     "data": {
      "text/plain": [
       "202"
      ]
     },
     "execution_count": 13,
     "metadata": {},
     "output_type": "execute_result"
    }
   ],
   "source": [
    "sum(y)"
   ]
  },
  {
   "cell_type": "code",
   "execution_count": 14,
   "metadata": {},
   "outputs": [
    {
     "data": {
      "text/plain": [
       "3.3666666666666667"
      ]
     },
     "execution_count": 14,
     "metadata": {},
     "output_type": "execute_result"
    }
   ],
   "source": [
    "sum(y)/60"
   ]
  },
  {
   "cell_type": "markdown",
   "metadata": {},
   "source": [
    "### Issue 8-9\n",
    "\n",
    "### Construct a histogram of the posterior and compare with the histogram of its Gaussian approximation. Generate a sample from posterior"
   ]
  },
  {
   "cell_type": "code",
   "execution_count": 15,
   "metadata": {},
   "outputs": [
    {
     "data": {
      "image/png": "[encoded data removed]",
      "text/plain": [
       "<Figure size 432x288 with 1 Axes>"
      ]
     },
     "metadata": {
      "needs_background": "light"
     },
     "output_type": "display_data"
    }
   ],
   "source": [
    "alpha = 363    # alpha\n",
    "beta = 100  # 1/beta\n",
    "\n",
    "shape = alpha\n",
    "scale = 1/beta\n",
    "\n",
    "s_gamma = np.random.gamma(shape, scale, 1000000)\n",
    "\n",
    "#mu, std = scipy.stats.norm.fit(s_gamma)\n",
    "mu = alpha/beta\n",
    "std = alpha**0.5/beta\n",
    "\n",
    "s_gauss = np.random.normal(mu, std, 1000000)\n",
    "\n",
    "plt.hist([s_gamma, s_gauss], bins=28, range=(2.5, 5.0))\n",
    "\n",
    "plt.show()"
   ]
  },
  {
   "cell_type": "code",
   "execution_count": 19,
   "metadata": {},
   "outputs": [
    {
     "data": {
      "text/plain": [
       "array([3.64245582, 3.38607082, 3.43997955, 3.63918907, 3.74397755,\n",
       "       3.88867096, 3.76815773, 3.57162276, 3.80377978, 3.62949281,\n",
       "       3.52479273, 3.54160072, 3.41566458, 3.8173512 , 3.8996989 ,\n",
       "       3.85880425, 3.759029  , 3.5439962 , 3.5653898 , 3.81815729])"
      ]
     },
     "execution_count": 19,
     "metadata": {},
     "output_type": "execute_result"
    }
   ],
   "source": [
    "q9 = np.random.gamma(shape, scale, 1000)\n",
    "q9[:20]"
   ]
  },
  {
   "cell_type": "code",
   "execution_count": 20,
   "metadata": {},
   "outputs": [],
   "source": [
    "mean = np.mean(q9)\n",
    "median = np.median(q9)\n",
    "var = np.var(q9)\n",
    "std = np.std(q9)"
   ]
  },
  {
   "cell_type": "code",
   "execution_count": 21,
   "metadata": {},
   "outputs": [
    {
     "name": "stdout",
     "output_type": "stream",
     "text": [
      "3.6310012520758117 3.631603943322643 0.03366699901866622 0.1834856915911053\n"
     ]
    }
   ],
   "source": [
    "print(mean, median, var, std)"
   ]
  },
  {
   "cell_type": "code",
   "execution_count": null,
   "metadata": {},
   "outputs": [],
   "source": []
  }
 ],
 "metadata": {
  "colab": {
   "collapsed_sections": [],
   "name": "BS1-3.ipynb",
   "provenance": []
  },
  "kernelspec": {
   "display_name": "Python 3",
   "language": "python",
   "name": "python3"
  },
  "language_info": {
   "codemirror_mode": {
    "name": "ipython",
    "version": 3
   },
   "file_extension": ".py",
   "mimetype": "text/x-python",
   "name": "python",
   "nbconvert_exporter": "python",
   "pygments_lexer": "ipython3",
   "version": "3.7.4"
  }
 },
 "nbformat": 4,
 "nbformat_minor": 1
}
