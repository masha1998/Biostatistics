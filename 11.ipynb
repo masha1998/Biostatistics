{
 "cells": [
  {
   "cell_type": "markdown",
   "metadata": {
    "id": "yuaIjKVHOmr5"
   },
   "source": [
    "## Homework\n",
    "\n",
    "### Poisson distribution"
   ]
  },
  {
   "cell_type": "code",
   "execution_count": 1,
   "metadata": {
    "id": "4I8pEeQNg89f"
   },
   "outputs": [],
   "source": [
    "from collections import Counter\n",
    "import matplotlib.pyplot as plt\n",
    "from scipy.stats import poisson\n",
    "import scipy\n",
    "import seaborn as sb\n",
    "import numpy as np"
   ]
  },
  {
   "cell_type": "markdown",
   "metadata": {},
   "source": [
    "## Task 11"
   ]
  },
  {
   "cell_type": "code",
   "execution_count": 2,
   "metadata": {},
   "outputs": [],
   "source": [
    "# в предыдущем пункте было получено\n",
    "\n",
    "alpha = 363\n",
    "beta = 100\n",
    "scale = 1 / beta"
   ]
  },
  {
   "cell_type": "code",
   "execution_count": 3,
   "metadata": {},
   "outputs": [],
   "source": [
    "gamma1 = scipy.stats.gamma(alpha, scale=scale)"
   ]
  },
  {
   "cell_type": "code",
   "execution_count": 4,
   "metadata": {},
   "outputs": [
    {
     "name": "stdout",
     "output_type": "stream",
     "text": [
      "XA: 3.25656984588815 4.00343015411185\n",
      "YA: 0.2963385250389402 0.3142461214291537\n"
     ]
    }
   ],
   "source": [
    "# Case A: practical approach with normal approximation\n",
    "\n",
    "mean = alpha/beta\n",
    "sigma = np.sqrt(alpha)/beta\n",
    "xa0, xa1 = mean-1.96*sigma, mean+1.96*sigma\n",
    "ya0, ya1 = gamma1.pdf([xa0, xa1])  # функция плотности вероятности\n",
    "\n",
    "print(\"XA:\", xa0, xa1)\n",
    "print(\"YA:\", ya0, ya1)"
   ]
  },
  {
   "cell_type": "code",
   "execution_count": 5,
   "metadata": {},
   "outputs": [
    {
     "name": "stdout",
     "output_type": "stream",
     "text": [
      "XB: 3.2661365659946053 4.012802737065149\n",
      "YB: 0.3292137420311783 0.28698206074890653\n"
     ]
    }
   ],
   "source": [
    "# Case B: bayessian equal tail\n",
    "\n",
    "qb0, qb1 = 0.025, 0.975\n",
    "xb0, xb1 = gamma1.ppf([qb0, qb1])  # percentile - обратная к интегралу от pdf \n",
    "yb0, yb1 = gamma1.pdf([xb0, xb1])  # функция плотности вероятности\n",
    "\n",
    "print(\"XB:\", xb0, xb1)\n",
    "print(\"YB:\", yb0, yb1)"
   ]
  },
  {
   "cell_type": "code",
   "execution_count": 6,
   "metadata": {},
   "outputs": [
    {
     "data": {
      "image/png": "[encoded data removed]",
      "text/plain": [
       "<Figure size 432x288 with 1 Axes>"
      ]
     },
     "metadata": {
      "needs_background": "light"
     },
     "output_type": "display_data"
    }
   ],
   "source": [
    "xs = np.linspace(3.0, 4.3, 131)\n",
    "ys = gamma1.pdf(xs)\n",
    "plt.plot(xs, ys)\n",
    "plt.plot([xa0, xa0], [0, ya0], \"r\")\n",
    "plt.plot([xa1, xa1], [0, ya1], \"r\", label=\"Practical approximation\")\n",
    "plt.plot([xb0, xb0], [0, yb0], \"m\")\n",
    "plt.plot([xb1, xb1], [0, yb1], \"m\", label=\"Bayessian equal tail\")\n",
    "plt.legend()\n",
    "plt.show()"
   ]
  },
  {
   "cell_type": "code",
   "execution_count": null,
   "metadata": {
    "collapsed": true
   },
   "outputs": [],
   "source": []
  }
 ],
 "metadata": {
  "colab": {
   "collapsed_sections": [],
   "name": "BS1-3.ipynb",
   "provenance": []
  },
  "kernelspec": {
   "display_name": "Python 3",
   "language": "python",
   "name": "python3"
  },
  "language_info": {
   "codemirror_mode": {
    "name": "ipython",
    "version": 3
   },
   "file_extension": ".py",
   "mimetype": "text/x-python",
   "name": "python",
   "nbconvert_exporter": "python",
   "pygments_lexer": "ipython3",
   "version": "3.7.4"
  }
 },
 "nbformat": 4,
 "nbformat_minor": 1
}
